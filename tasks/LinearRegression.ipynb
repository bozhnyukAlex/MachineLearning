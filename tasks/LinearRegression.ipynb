{
 "cells": [
  {
   "cell_type": "markdown",
   "source": [
    "# Задача 1. Линейная регрессия, метод градиентного спуска\n",
    "\n",
    "## Постановка задачи\n",
    "\n",
    "- [ ] Самостоятельно реализовать функцию **gradient_descent(X, y)**, которая по заданной обучающей выборке обучает модель линейной регрессии, оптимизируя функционал методом градиентного спуска (Batch Gradient Descent, GD) и возвращая вектор весов **w**. В качестве функционала можно выбрать, например, функцию ошибок **MSE** + $L_2$-регуляризатор. Использовать матрично-векторные операции для вычисления градиента.\n",
    "- [ ] Найти данные, на которых интересно будет решать задачу регрессии. Зависимость целового признака от нецелевых должна быть не слишком сложной, чтобы обученная линейная модель смогла показать приемлимый результат. В крайнем случае взять данные для предсказания стоимости машин [тут](https://github.com/rustam-azimov/ml-course/tree/main/data/car_price) (целевой признак для предсказания --- **price**).\n",
    "- [ ] Считать данные, выполнить первичный анализ данных, при необходимости произвести чистку данных (Data Cleaning).\n",
    "- [ ] Выполнить разведочный анализ (EDA), использовать визуализацию, сделать выводы, которые могут быть полезны при дальнейшем решении задачи регрессии.\n",
    "- [ ] При необходимости выполнить полезные преобразования данных (например, трансформировать категариальные признаки в количественные), убрать ненужные признаки, создать новые (Feature Engineering).\n",
    "- [ ] Случайным образом разбить данные на обучающую и тестовую выборки, используя методы существующих библиотек.\n",
    "- [ ] При обучении моделей использовать масштабирование данных.\n",
    "- [ ] Обучить модель на обучающей выборке, используя функцию **gradient_descent(X, y)**. Оценить качество модели на обучающей и тестовой выборках, используя **MSE**, **RMSE** и $R^2$.\n",
    "- [ ] Обучить модель, используя существующую библиотеку. Например, в **sklearn** для $L_2$-регуляризатора можно использовать **Ridge**. Сравнить качество с вашей реализацией.\n",
    "- [ ] Повторить тоже самое, но используя кросс-валидацию.\n",
    "- [ ] Создать таблицу, со строками (mse-train, mse-test, rmse-train, rmse-test, r2-train, r2-test) и столбцами (Fold1, Fold2, ..., Foldk, E, STD), где k --- количество фолдов в кросс-валидации, E --- мат. ожидание и STD --- стандартное отклонение. Сделать выводы.\n",
    "- [ ] * (+1 балл) Перед обучением моделей подобрать наилучшее количество (и само подмножество) признаков, например используя Recursive Feature Elimination (RFE).\n",
    "- [ ] * (+1 балл) Во все ваши реализации добавить возможность настройки нужных гиперпараметров, а в процессе обучения **всех** моделей осуществить подбор оптимальных значений этих гиперпараметров.\n",
    "- [ ] * (+2 балла) Также самостоятельно реализовать метод стохастического градиентного спуска (Stochastic Gradient Descent, SGD), обучить модели и добавить их во все сравнения.\n",
    "- [ ] * (+2 балла) Также самостоятельно реализовать метод мини-пакетного градиентного спуска (Mini Batch Gradient Descent), обучить модели и добавить их во все сравнения."
   ],
   "metadata": {
    "collapsed": false
   }
  },
  {
   "cell_type": "code",
   "execution_count": 1,
   "outputs": [],
   "source": [
    "import numpy as np\n",
    "from numpy.core.records import ndarray"
   ],
   "metadata": {
    "collapsed": false
   }
  },
  {
   "cell_type": "markdown",
   "source": [
    "# Реализация линейной модели"
   ],
   "metadata": {
    "collapsed": false
   }
  },
  {
   "cell_type": "code",
   "execution_count": 4,
   "outputs": [
    {
     "data": {
      "text/plain": "20"
     },
     "execution_count": 4,
     "metadata": {},
     "output_type": "execute_result"
    }
   ],
   "source": [
    "def get_full_sample_matrix(samples: ndarray):\n",
    "    samples_matrix = samples.copy()\n",
    "    if samples.ndim == 1:\n",
    "        samples_matrix = samples_matrix.reshape(-1, 1)\n",
    "\n",
    "    ones_vec = np.ones((samples_matrix.shape[0], 1), dtype=samples.dtype)\n",
    "    return np.hstack([ones_vec, samples_matrix])\n",
    "\n",
    "def linear_model(w: ndarray, x: ndarray) -> ndarray:\n",
    "    return np.dot(get_full_sample_matrix(x), w)"
   ],
   "metadata": {
    "collapsed": false
   }
  },
  {
   "cell_type": "markdown",
   "source": [
    "# Реализация градиентного спуска"
   ],
   "metadata": {
    "collapsed": false
   }
  },
  {
   "cell_type": "code",
   "execution_count": null,
   "outputs": [],
   "source": [
    "def gradient_descent(X, y, w0, epsilon=1E-8, alpha=1, lmda=0.001, dw=1E-8):\n",
    "\n",
    "    def cost(w, **kwargs):\n",
    "        x = kwargs['x']\n",
    "        y_sample = kwargs['y']\n",
    "        alpha_reg = kwargs['alpha_reg']\n",
    "\n",
    "        y_new = linear_model(w, x)\n",
    "\n",
    "        c = sum((y_sample - y_new) ** 2) / len(y_sample)\n",
    "        # L2 регуляризация\n",
    "        c += alpha_reg * sum(w ** 2)\n",
    "        return c\n",
    "\n",
    "    run_condition = True\n",
    "\n",
    "    cost_inputs = {\n",
    "        'x': X,\n",
    "        'y': y,\n",
    "        'alpha_reg': alpha\n",
    "    }\n",
    "    costs = [cost(w0, **cost_inputs)]\n",
    "    cur_w = w0\n",
    "\n",
    "    while run_condition:\n",
    "        # считаем градиент\n",
    "        del_c = []\n",
    "        for i, w_i in enumerate(w0):\n",
    "            tw = cur_w\n",
    "            tw[i] = w_i + dw\n",
    "            cost_i = cost(tw, cost_inputs)\n",
    "            dc = cost_i - costs[-1]\n",
    "            del_c.append(dc)\n",
    "\n",
    "        cur_w = cur_w - lmda * np.array(del_c)\n",
    "\n",
    "        costs.append(cost(cur_w, **cost_inputs))\n",
    "\n",
    "        run_condition = abs(costs[-1] - costs[-2]) > epsilon\n",
    "\n",
    "    return cur_w"
   ],
   "metadata": {
    "collapsed": false
   }
  },
  {
   "cell_type": "markdown",
   "source": [
    "# Датасет"
   ],
   "metadata": {
    "collapsed": false
   }
  },
  {
   "cell_type": "code",
   "execution_count": null,
   "outputs": [],
   "source": [],
   "metadata": {
    "collapsed": false
   }
  }
 ],
 "metadata": {
  "kernelspec": {
   "display_name": "Python 3",
   "language": "python",
   "name": "python3"
  },
  "language_info": {
   "codemirror_mode": {
    "name": "ipython",
    "version": 2
   },
   "file_extension": ".py",
   "mimetype": "text/x-python",
   "name": "python",
   "nbconvert_exporter": "python",
   "pygments_lexer": "ipython2",
   "version": "2.7.6"
  }
 },
 "nbformat": 4,
 "nbformat_minor": 0
}
